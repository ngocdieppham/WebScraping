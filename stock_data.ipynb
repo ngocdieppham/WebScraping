{
 "cells": [
  {
   "cell_type": "code",
   "execution_count": 114,
   "id": "ecc0d351",
   "metadata": {},
   "outputs": [],
   "source": [
    "from bs4 import BeautifulSoup\n",
    "import requests\n",
    "import pandas as pd"
   ]
  },
  {
   "cell_type": "code",
   "execution_count": 113,
   "id": "1b5b57df",
   "metadata": {},
   "outputs": [],
   "source": [
    "url = 'https://www.cophieu68.vn/stockonline.php?nd=2000'\n",
    "response = requests.get(url)\n",
    "content = BeautifulSoup(response.content, \"html.parser\")"
   ]
  },
  {
   "cell_type": "code",
   "execution_count": 97,
   "id": "eeda166d",
   "metadata": {},
   "outputs": [],
   "source": [
    "rows = content.find_all('tr', attrs={\"class\":\"board_tr\"})\n",
    "stock_name=[]\n",
    "for item in rows:\n",
    "    stock_name.append(item[\"data-value\"])"
   ]
  },
  {
   "cell_type": "code",
   "execution_count": 98,
   "id": "7556c6a0",
   "metadata": {},
   "outputs": [],
   "source": [
    "ceiling_price = content.find_all('td', attrs={\"data-group\":\"ceiling\"})\n",
    "list_ceiling_price=[]\n",
    "for item in ceiling_price:\n",
    "    list_ceiling_price.append(item[\"data-value\"])"
   ]
  },
  {
   "cell_type": "code",
   "execution_count": 99,
   "id": "37a59edc",
   "metadata": {},
   "outputs": [],
   "source": [
    "floor_price = content.find_all('td', attrs={\"data-group\":\"floor\"})\n",
    "list_floor_price=[]\n",
    "for item in floor_price:\n",
    "    list_floor_price.append(item[\"data-value\"])"
   ]
  },
  {
   "cell_type": "code",
   "execution_count": 100,
   "id": "ae14b781",
   "metadata": {},
   "outputs": [],
   "source": [
    "ref_price = content.find_all('td', attrs={\"data-group\":\"open\"})\n",
    "list_ref_price=[]\n",
    "for item in ref_price:\n",
    "    list_ref_price.append(item[\"data-value\"])"
   ]
  },
  {
   "cell_type": "code",
   "execution_count": 101,
   "id": "eee149f5",
   "metadata": {},
   "outputs": [],
   "source": [
    "price_change = content.find_all('td', attrs={\"data-group\":\"price_change\"})\n",
    "list_price_change=[]\n",
    "for item in price_change:\n",
    "    list_price_change.append(item[\"data-value\"])"
   ]
  },
  {
   "cell_type": "code",
   "execution_count": 102,
   "id": "12847a15",
   "metadata": {},
   "outputs": [],
   "source": [
    "volume = content.find_all('td', attrs={\"data-group\":\"volume\"})\n",
    "list_volume=[]\n",
    "for item in volume:\n",
    "    list_volume.append(item[\"data-value\"])"
   ]
  },
  {
   "cell_type": "code",
   "execution_count": 103,
   "id": "23cba064",
   "metadata": {},
   "outputs": [],
   "source": [
    "open_price = content.find_all('td', attrs={\"data-group\":\"price_open\"})\n",
    "list_open_price=[]\n",
    "for item in open_price:\n",
    "    list_open_price.append(item[\"data-value\"])"
   ]
  },
  {
   "cell_type": "code",
   "execution_count": 104,
   "id": "00e80a05",
   "metadata": {},
   "outputs": [],
   "source": [
    "price_highest = content.find_all('td', attrs={\"data-group\":\"price_highest\"})\n",
    "list_price_highest=[]\n",
    "for item in price_highest:\n",
    "    list_price_highest.append(item[\"data-value\"])"
   ]
  },
  {
   "cell_type": "code",
   "execution_count": 105,
   "id": "97b6745a",
   "metadata": {},
   "outputs": [],
   "source": [
    "price_lowest = content.find_all('td', attrs={\"data-group\":\"price_lowest\"})\n",
    "list_price_lowest=[]\n",
    "for item in price_lowest:\n",
    "    list_price_lowest.append(item[\"data-value\"])"
   ]
  },
  {
   "cell_type": "code",
   "execution_count": 111,
   "id": "9ad59a90",
   "metadata": {},
   "outputs": [
    {
     "data": {
      "text/html": [
       "<div>\n",
       "<style scoped>\n",
       "    .dataframe tbody tr th:only-of-type {\n",
       "        vertical-align: middle;\n",
       "    }\n",
       "\n",
       "    .dataframe tbody tr th {\n",
       "        vertical-align: top;\n",
       "    }\n",
       "\n",
       "    .dataframe thead th {\n",
       "        text-align: right;\n",
       "    }\n",
       "</style>\n",
       "<table border=\"1\" class=\"dataframe\">\n",
       "  <thead>\n",
       "    <tr style=\"text-align: right;\">\n",
       "      <th></th>\n",
       "      <th>Mã CK</th>\n",
       "      <th>Gía trần</th>\n",
       "      <th>Gía sàn</th>\n",
       "      <th>Gía TC</th>\n",
       "      <th>+/-</th>\n",
       "      <th>Khối lượng</th>\n",
       "      <th>Gía mở cửa</th>\n",
       "      <th>Cao nhất</th>\n",
       "      <th>Thấp nhất</th>\n",
       "    </tr>\n",
       "  </thead>\n",
       "  <tbody>\n",
       "    <tr>\n",
       "      <th>0</th>\n",
       "      <td>flc</td>\n",
       "      <td></td>\n",
       "      <td></td>\n",
       "      <td>3.50</td>\n",
       "      <td></td>\n",
       "      <td></td>\n",
       "      <td></td>\n",
       "      <td></td>\n",
       "      <td></td>\n",
       "    </tr>\n",
       "    <tr>\n",
       "      <th>1</th>\n",
       "      <td>vpb</td>\n",
       "      <td>22.25</td>\n",
       "      <td>19.35</td>\n",
       "      <td>20.80</td>\n",
       "      <td>0.15</td>\n",
       "      <td>8,351,000</td>\n",
       "      <td>20.95</td>\n",
       "      <td>21.05</td>\n",
       "      <td>20.70</td>\n",
       "    </tr>\n",
       "    <tr>\n",
       "      <th>2</th>\n",
       "      <td>pow</td>\n",
       "      <td>11.65</td>\n",
       "      <td>10.15</td>\n",
       "      <td>10.90</td>\n",
       "      <td>0.30</td>\n",
       "      <td>5,141,700</td>\n",
       "      <td>10.95</td>\n",
       "      <td>11.25</td>\n",
       "      <td>10.90</td>\n",
       "    </tr>\n",
       "    <tr>\n",
       "      <th>3</th>\n",
       "      <td>tcb</td>\n",
       "      <td>34</td>\n",
       "      <td>29.60</td>\n",
       "      <td>31.80</td>\n",
       "      <td>0.25</td>\n",
       "      <td>2,551,600</td>\n",
       "      <td>31.75</td>\n",
       "      <td>32.25</td>\n",
       "      <td>31.60</td>\n",
       "    </tr>\n",
       "    <tr>\n",
       "      <th>4</th>\n",
       "      <td>hpg</td>\n",
       "      <td>26.60</td>\n",
       "      <td>23.20</td>\n",
       "      <td>24.90</td>\n",
       "      <td>0.05</td>\n",
       "      <td>15,250,000</td>\n",
       "      <td>24.85</td>\n",
       "      <td>25.30</td>\n",
       "      <td>24.65</td>\n",
       "    </tr>\n",
       "  </tbody>\n",
       "</table>\n",
       "</div>"
      ],
      "text/plain": [
       "  Mã CK Gía trần Gía sàn Gía TC   +/-  Khối lượng Gía mở cửa Cao nhất  \\\n",
       "0   flc                    3.50                                         \n",
       "1   vpb    22.25   19.35  20.80  0.15   8,351,000      20.95    21.05   \n",
       "2   pow    11.65   10.15  10.90  0.30   5,141,700      10.95    11.25   \n",
       "3   tcb       34   29.60  31.80  0.25   2,551,600      31.75    32.25   \n",
       "4   hpg    26.60   23.20  24.90  0.05  15,250,000      24.85    25.30   \n",
       "\n",
       "  Thấp nhất  \n",
       "0            \n",
       "1     20.70  \n",
       "2     10.90  \n",
       "3     31.60  \n",
       "4     24.65  "
      ]
     },
     "execution_count": 111,
     "metadata": {},
     "output_type": "execute_result"
    }
   ],
   "source": [
    "data = pd.DataFrame({\"Mã CK\":stock_name,\"Gía trần\":list_ceiling_price,\"Gía sàn\":list_floor_price,\"Gía TC\":list_ref_price,\"+/-\":list_price_change,\"Khối lượng\":list_volume,\"Gía mở cửa\":list_open_price,\"Cao nhất\":list_price_highest,\"Thấp nhất\":list_price_lowest})\n",
    "data.head()"
   ]
  }
 ],
 "metadata": {
  "kernelspec": {
   "display_name": "Python 3",
   "language": "python",
   "name": "python3"
  },
  "language_info": {
   "codemirror_mode": {
    "name": "ipython",
    "version": 3
   },
   "file_extension": ".py",
   "mimetype": "text/x-python",
   "name": "python",
   "nbconvert_exporter": "python",
   "pygments_lexer": "ipython3",
   "version": "3.8.8"
  }
 },
 "nbformat": 4,
 "nbformat_minor": 5
}
